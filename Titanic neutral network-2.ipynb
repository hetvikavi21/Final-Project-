{
 "cells":[
  {
   "cell_type":"code",
   "source":[
    "import numpy as np\n",
    "import pandas as pd\n",
    "import seaborn as sns\n",
    "import matplotlib.pyplot as plt\n",
    "%matplotlib inline\n",
    "\n",
    "import tensorflow as tf\n",
    "import keras \n",
    "from keras.layers import Dense, Dropout, Input\n",
    "from keras.models import Sequential\n",
    "\n",
    "#import dataset\n",
    "\n",
    "titanic = pd.read_csv('titanic3.csv')\n",
    "titanic.head()"
   ],
   "execution_count":294,
   "outputs":[
    {
     "data":{
      "text\/html":[
       "<div>\n",
       "<style scoped>\n",
       "    .dataframe tbody tr th:only-of-type {\n",
       "        vertical-align: middle;\n",
       "    }\n",
       "\n",
       "    .dataframe tbody tr th {\n",
       "        vertical-align: top;\n",
       "    }\n",
       "\n",
       "    .dataframe thead th {\n",
       "        text-align: right;\n",
       "    }\n",
       "<\/style>\n",
       "<table border=\"1\" class=\"dataframe\">\n",
       "  <thead>\n",
       "    <tr style=\"text-align: right;\">\n",
       "      <th><\/th>\n",
       "      <th>pclass<\/th>\n",
       "      <th>survived<\/th>\n",
       "      <th>name<\/th>\n",
       "      <th>sex<\/th>\n",
       "      <th>age<\/th>\n",
       "      <th>sibsp<\/th>\n",
       "      <th>parch<\/th>\n",
       "      <th>ticket<\/th>\n",
       "      <th>fare<\/th>\n",
       "      <th>cabin<\/th>\n",
       "      <th>embarked<\/th>\n",
       "      <th>boat<\/th>\n",
       "      <th>body<\/th>\n",
       "      <th>home.dest<\/th>\n",
       "    <\/tr>\n",
       "  <\/thead>\n",
       "  <tbody>\n",
       "    <tr>\n",
       "      <th>0<\/th>\n",
       "      <td>1.0<\/td>\n",
       "      <td>1.0<\/td>\n",
       "      <td>Allen, Miss. Elisabeth Walton<\/td>\n",
       "      <td>female<\/td>\n",
       "      <td>29.0000<\/td>\n",
       "      <td>0.0<\/td>\n",
       "      <td>0.0<\/td>\n",
       "      <td>24160<\/td>\n",
       "      <td>211.3375<\/td>\n",
       "      <td>B5<\/td>\n",
       "      <td>S<\/td>\n",
       "      <td>2<\/td>\n",
       "      <td>NaN<\/td>\n",
       "      <td>St Louis, MO<\/td>\n",
       "    <\/tr>\n",
       "    <tr>\n",
       "      <th>1<\/th>\n",
       "      <td>1.0<\/td>\n",
       "      <td>1.0<\/td>\n",
       "      <td>Allison, Master. Hudson Trevor<\/td>\n",
       "      <td>male<\/td>\n",
       "      <td>0.9167<\/td>\n",
       "      <td>1.0<\/td>\n",
       "      <td>2.0<\/td>\n",
       "      <td>113781<\/td>\n",
       "      <td>151.5500<\/td>\n",
       "      <td>C22 C26<\/td>\n",
       "      <td>S<\/td>\n",
       "      <td>11<\/td>\n",
       "      <td>NaN<\/td>\n",
       "      <td>Montreal, PQ \/ Chesterville, ON<\/td>\n",
       "    <\/tr>\n",
       "    <tr>\n",
       "      <th>2<\/th>\n",
       "      <td>1.0<\/td>\n",
       "      <td>0.0<\/td>\n",
       "      <td>Allison, Miss. Helen Loraine<\/td>\n",
       "      <td>female<\/td>\n",
       "      <td>2.0000<\/td>\n",
       "      <td>1.0<\/td>\n",
       "      <td>2.0<\/td>\n",
       "      <td>113781<\/td>\n",
       "      <td>151.5500<\/td>\n",
       "      <td>C22 C26<\/td>\n",
       "      <td>S<\/td>\n",
       "      <td>NaN<\/td>\n",
       "      <td>NaN<\/td>\n",
       "      <td>Montreal, PQ \/ Chesterville, ON<\/td>\n",
       "    <\/tr>\n",
       "    <tr>\n",
       "      <th>3<\/th>\n",
       "      <td>1.0<\/td>\n",
       "      <td>0.0<\/td>\n",
       "      <td>Allison, Mr. Hudson Joshua Creighton<\/td>\n",
       "      <td>male<\/td>\n",
       "      <td>30.0000<\/td>\n",
       "      <td>1.0<\/td>\n",
       "      <td>2.0<\/td>\n",
       "      <td>113781<\/td>\n",
       "      <td>151.5500<\/td>\n",
       "      <td>C22 C26<\/td>\n",
       "      <td>S<\/td>\n",
       "      <td>NaN<\/td>\n",
       "      <td>135.0<\/td>\n",
       "      <td>Montreal, PQ \/ Chesterville, ON<\/td>\n",
       "    <\/tr>\n",
       "    <tr>\n",
       "      <th>4<\/th>\n",
       "      <td>1.0<\/td>\n",
       "      <td>0.0<\/td>\n",
       "      <td>Allison, Mrs. Hudson J C (Bessie Waldo Daniels)<\/td>\n",
       "      <td>female<\/td>\n",
       "      <td>25.0000<\/td>\n",
       "      <td>1.0<\/td>\n",
       "      <td>2.0<\/td>\n",
       "      <td>113781<\/td>\n",
       "      <td>151.5500<\/td>\n",
       "      <td>C22 C26<\/td>\n",
       "      <td>S<\/td>\n",
       "      <td>NaN<\/td>\n",
       "      <td>NaN<\/td>\n",
       "      <td>Montreal, PQ \/ Chesterville, ON<\/td>\n",
       "    <\/tr>\n",
       "  <\/tbody>\n",
       "<\/table>\n",
       "<\/div>"
      ]
     },
     "metadata":{
      
     },
     "output_type":"display_data"
    }
   ],
   "metadata":{
    "datalore":{
     "node_id":"0TmqDdYamnDcPd6UKYI23C",
     "type":"CODE",
     "hide_input_from_viewers":false,
     "hide_output_from_viewers":false,
     "report_properties":{
      "y":0
     }
    }
   }
  },
  {
   "cell_type":"code",
   "source":[
    "#from plot we come to the know the missing values which includes age, fare, cabin, embarked, boat, boady,home.dest\n",
    "\n",
    "plt.figure(figsize = (13,5))\n",
    "plt.bar(titanic.columns, titanic.isna().sum())\n",
    "plt.xlabel(\"Columns name\")\n",
    "plt.ylabel(\"Number of missing values in training data\")\n",
    "plt.show()\n"
   ],
   "execution_count":295,
   "outputs":[
    {
     "data":{
      "image\/png":"[encoded data removed]"
     },
     "metadata":{
      "image\/png":{
       
      }
     },
     "output_type":"display_data"
    }
   ],
   "metadata":{
    "datalore":{
     "node_id":"LgCrdcoVMI21BwygKp10TO",
     "type":"CODE",
     "hide_input_from_viewers":false,
     "hide_output_from_viewers":false,
     "report_properties":{
      "y":21
     }
    }
   }
  },
  {
   "cell_type":"code",
   "source":[
    "((titanic.groupby(['sex','survived']).survived.count() * 100) \/ titanic.groupby('sex').survived.count())\n",
    "\n",
    "#Survival rate for male and female\n",
    "#Females are more likely to survive"
   ],
   "execution_count":296,
   "outputs":[
    {
     "data":{
      "text\/html":[
       "<pre>sex     survived\n",
       "female  0.0         27.253219\n",
       "        1.0         72.746781\n",
       "male    0.0         80.901542\n",
       "        1.0         19.098458\n",
       "Name: survived, dtype: float64<\/pre>"
      ]
     },
     "metadata":{
      
     },
     "output_type":"display_data"
    }
   ],
   "metadata":{
    "datalore":{
     "node_id":"2uGfUP3epH1kqPPcEEIakO",
     "type":"CODE",
     "hide_input_from_viewers":false,
     "hide_output_from_viewers":false,
     "report_properties":{
      "y":30
     }
    }
   }
  },
  {
   "cell_type":"code",
   "source":[
    "(titanic.groupby(['embarked','survived']).survived.count() * 100) \/ titanic.groupby('embarked').survived.count()\n",
    "\n",
    "\n",
    "#Survival rate on the basis of Embarked place\n",
    "#People embarking from Southampton are likely to die"
   ],
   "execution_count":297,
   "outputs":[
    {
     "data":{
      "text\/html":[
       "<pre>embarked  survived\n",
       "C         0.0         44.444444\n",
       "          1.0         55.555556\n",
       "Q         0.0         64.227642\n",
       "          1.0         35.772358\n",
       "S         0.0         66.739606\n",
       "          1.0         33.260394\n",
       "Name: survived, dtype: float64<\/pre>"
      ]
     },
     "metadata":{
      
     },
     "output_type":"display_data"
    }
   ],
   "metadata":{
    "datalore":{
     "node_id":"DFhmodREmOmNtR5NGekIoo",
     "type":"CODE",
     "hide_input_from_viewers":false,
     "hide_output_from_viewers":false,
     "report_properties":{
      "y":39
     }
    }
   }
  },
  {
   "cell_type":"code",
   "source":[
    "(titanic.groupby(['pclass','survived']).survived.count() * 100) \/ titanic.groupby('pclass').survived.count()\n",
    "\n",
    "#Survival rate on the basis of Pclass\n",
    "#We see that the people leaving in the 2nd and 3rd class is likely"
   ],
   "execution_count":298,
   "outputs":[
    {
     "data":{
      "text\/html":[
       "<pre>pclass  survived\n",
       "1.0     0.0         38.080495\n",
       "        1.0         61.919505\n",
       "2.0     0.0         57.039711\n",
       "        1.0         42.960289\n",
       "3.0     0.0         74.471086\n",
       "        1.0         25.528914\n",
       "Name: survived, dtype: float64<\/pre>"
      ]
     },
     "metadata":{
      
     },
     "output_type":"display_data"
    }
   ],
   "metadata":{
    "datalore":{
     "node_id":"rkp22mSnGhEXYYYKAUlsKS",
     "type":"CODE",
     "hide_input_from_viewers":false,
     "hide_output_from_viewers":false,
     "report_properties":{
      "y":49
     }
    }
   }
  },
  {
   "cell_type":"code",
   "source":[
    "titanic.groupby(by=['survived']).mean()['age']\n",
    "#This shows that the average age of people who survived was around "
   ],
   "execution_count":299,
   "outputs":[
    {
     "data":{
      "text\/html":[
       "<pre>survived\n",
       "0.0    30.545369\n",
       "1.0    28.918228\n",
       "Name: age, dtype: float64<\/pre>"
      ]
     },
     "metadata":{
      
     },
     "output_type":"display_data"
    }
   ],
   "metadata":{
    "datalore":{
     "node_id":"znIkaTBTFRCZffP0L8FEOP",
     "type":"CODE",
     "hide_input_from_viewers":false,
     "hide_output_from_viewers":false,
     "report_properties":{
      "y":59
     }
    }
   }
  },
  {
   "cell_type":"markdown",
   "source":[
    "Adding missing data in the dataset"
   ],
   "attachments":{
    
   },
   "metadata":{
    "datalore":{
     "node_id":"kVtBnAtc71IUi4GdhjO9qC",
     "type":"MD",
     "hide_input_from_viewers":false,
     "hide_output_from_viewers":false,
     "report_properties":{
      "y":66
     }
    }
   }
  },
  {
   "cell_type":"code",
   "source":[
    "#before filling the missing values, let's drop Cabin column from dataset.\n",
    "\n",
    "titanic.drop('cabin', inplace = True, axis=1)"
   ],
   "execution_count":300,
   "outputs":[
    
   ],
   "metadata":{
    "datalore":{
     "node_id":"gId5o99sf049yIPwPHU15I",
     "type":"CODE",
     "hide_input_from_viewers":false,
     "hide_output_from_viewers":false,
     "report_properties":{
      "y":70
     }
    }
   }
  },
  {
   "cell_type":"code",
   "source":[
    "\n",
    "print(titanic.isnull().sum())\n",
    "print('*' * 20)"
   ],
   "execution_count":301,
   "outputs":[
    {
     "name":"stdout",
     "text":[
      "pclass          1\n",
      "survived        1\n",
      "name            1\n",
      "sex             1\n",
      "age           264\n",
      "sibsp           1\n",
      "parch           1\n",
      "ticket          1\n",
      "fare            2\n",
      "embarked        3\n",
      "boat          824\n",
      "body         1189\n",
      "home.dest     565\n",
      "dtype: int64\n",
      "********************\n"
     ],
     "output_type":"stream"
    }
   ],
   "metadata":{
    "datalore":{
     "node_id":"Lw6db1g0iPMOMUs8eqHtqM",
     "type":"CODE",
     "hide_input_from_viewers":false,
     "hide_output_from_viewers":false,
     "report_properties":{
      "y":74
     }
    }
   }
  },
  {
   "cell_type":"code",
   "source":[
    "#filling the nan values fo Age and fare column with the mean \n",
    "\n",
    "\n",
    "titanic.age.fillna(titanic.age.mean(), inplace = True)\n",
    "titanic.fare.fillna(titanic.fare.mean(), inplace = True)\n",
    "\n",
    "#from visualization we know that Southamptom is most frequent Embarked place so, filling the missing value \n",
    "# with 'S'\n",
    "titanic.embarked.fillna('S', inplace = True)"
   ],
   "execution_count":302,
   "outputs":[
    
   ],
   "metadata":{
    "datalore":{
     "node_id":"uP8jw1M66mDKxKLUU2okY7",
     "type":"CODE",
     "hide_input_from_viewers":false,
     "hide_output_from_viewers":false,
     "report_properties":{
      "y":86
     }
    }
   }
  },
  {
   "cell_type":"code",
   "source":[
    "def change_gender(x):\n",
    "    if x == 'male':\n",
    "        return 0\n",
    "    elif x == 'female':\n",
    "        return 1\n",
    "titanic.sex = titanic.sex.apply(change_gender)"
   ],
   "execution_count":303,
   "outputs":[
    
   ],
   "metadata":{
    "datalore":{
     "node_id":"u82jAD2kH1Tj5vfszQj2Sj",
     "type":"CODE",
     "hide_input_from_viewers":false,
     "hide_output_from_viewers":false,
     "report_properties":{
      "y":93
     }
    }
   }
  },
  {
   "cell_type":"code",
   "source":[
    "change = {'S':1,'C':2,'Q':0}\n",
    "titanic.embarked = titanic.embarked.map(change)"
   ],
   "execution_count":304,
   "outputs":[
    
   ],
   "metadata":{
    "datalore":{
     "node_id":"1apVk6SA71NUeYyH0VVBik",
     "type":"CODE",
     "hide_input_from_viewers":false,
     "hide_output_from_viewers":false,
     "report_properties":{
      "y":99
     }
    }
   }
  },
  {
   "cell_type":"code",
   "source":[
    "corr_train = titanic.corr()\n",
    "sns.heatmap(corr_train)\n",
    "plt.show()"
   ],
   "execution_count":305,
   "outputs":[
    {
     "data":{
      "image\/png":"[encoded data removed]"
     },
     "metadata":{
      "image\/png":{
       
      }
     },
     "output_type":"display_data"
    }
   ],
   "metadata":{
    "datalore":{
     "node_id":"FsWCxulIbBYCCrmtpZCXHw",
     "type":"CODE",
     "hide_input_from_viewers":false,
     "hide_output_from_viewers":false,
     "report_properties":{
      "y":103
     }
    }
   }
  },
  {
   "cell_type":"code",
   "source":[
    "titanic ['alone']= titanic.sibsp + titanic.parch\n",
    "\n",
    "titanic ['alone'] = titanic.alone.apply(lambda x:1 if x == 0 else 0)\n",
    "\n",
    "# sibsp and parch column is closely related as seen in the heatmap\n",
    "\n",
    "# lets drop sibsp and parch column \n",
    "\n",
    "titanic.drop(['sibsp','parch'],inplace = True, axis = 1)"
   ],
   "execution_count":306,
   "outputs":[
    
   ],
   "metadata":{
    "datalore":{
     "node_id":"HBV5654966BpNjPcURjJR0",
     "type":"CODE",
     "hide_input_from_viewers":false,
     "hide_output_from_viewers":false,
     "report_properties":{
      "y":106
     }
    }
   }
  },
  {
   "cell_type":"code",
   "source":[
    "titanic.name.str.extract(' ([A-Za-z]+)\\.', expand=False).unique().size\n",
    "# there are total 19 unique title"
   ],
   "execution_count":307,
   "outputs":[
    {
     "data":{
      "text\/plain":[
       "19"
      ]
     },
     "metadata":{
      
     },
     "output_type":"display_data"
    }
   ],
   "metadata":{
    "datalore":{
     "node_id":"WexjV3VCDfmyuKy6goZIYf",
     "type":"CODE",
     "hide_input_from_viewers":false,
     "hide_output_from_viewers":false,
     "report_properties":{
      "y":109
     }
    }
   }
  },
  {
   "cell_type":"code",
   "source":[
    "# lets create the Title feature which contain the title of the passenger and drop Name column\n",
    "\n",
    "titanic['title'] = titanic.name.str.extract('([A-Za-z]+)\\.', expand = False)\n",
    "titanic.drop('name', axis = 1, inplace = True)"
   ],
   "execution_count":308,
   "outputs":[
    
   ],
   "metadata":{
    "datalore":{
     "node_id":"S1HpyCStAkKWLYEp0dYXV2",
     "type":"CODE",
     "hide_input_from_viewers":false,
     "hide_output_from_viewers":false,
     "report_properties":{
      "y":112
     }
    }
   }
  },
  {
   "cell_type":"code",
   "source":[
    "titanic.title.value_counts()"
   ],
   "execution_count":309,
   "outputs":[
    {
     "data":{
      "text\/html":[
       "<pre>Mr          757\n",
       "Miss        260\n",
       "Mrs         197\n",
       "Master       61\n",
       "Rev           8\n",
       "Dr            8\n",
       "Col           4\n",
       "Mlle          2\n",
       "Ms            2\n",
       "Major         2\n",
       "Capt          1\n",
       "Sir           1\n",
       "Dona          1\n",
       "Jonkheer      1\n",
       "Countess      1\n",
       "Don           1\n",
       "Mme           1\n",
       "Lady          1\n",
       "Name: title, dtype: int64<\/pre>"
      ]
     },
     "metadata":{
      
     },
     "output_type":"display_data"
    }
   ],
   "metadata":{
    "datalore":{
     "node_id":"1uFNn2YZL0B1GPBMFz2Rwg",
     "type":"CODE",
     "hide_input_from_viewers":false,
     "hide_output_from_viewers":false,
     "report_properties":{
      "y":115
     }
    }
   }
  },
  {
   "cell_type":"code",
   "source":[
    "titanic.title.unique()"
   ],
   "execution_count":111,
   "outputs":[
    {
     "data":{
      "text\/html":[
       "<pre>array(['Miss', 'Master', 'Mr', 'Mrs', 'Col', 'Mme', 'Dr', 'Major', 'Capt',\n",
       "       'Lady', 'Sir', 'Mlle', 'Dona', 'Jonkheer', 'Countess', 'Don',\n",
       "       'Rev', 'Ms', nan], dtype=object)<\/pre>"
      ]
     },
     "metadata":{
      
     },
     "output_type":"display_data"
    }
   ],
   "metadata":{
    "datalore":{
     "node_id":"y5RHGa4R8eTTENTnNhkclY",
     "type":"CODE",
     "hide_input_from_viewers":false,
     "hide_output_from_viewers":false,
     "report_properties":{
      "y":118
     }
    }
   }
  },
  {
   "cell_type":"code",
   "source":[
    "#lets replace least occuring title in the data with rare\n",
    "least_occuring = [ 'Don', 'Rev', 'Dr', 'Mme', 'Ms',\n",
    "       'Major', 'Lady', 'Sir', 'Mlle', 'Col', 'Capt', 'Countess','Dona',\n",
    "       'Jonkheer']\n",
    "titanic.title = titanic.title.replace(least_occuring,'Rare')"
   ],
   "execution_count":310,
   "outputs":[
    
   ],
   "metadata":{
    "datalore":{
     "node_id":"AqjJVHLgcy6TABqXmlwnaE",
     "type":"CODE",
     "hide_input_from_viewers":false,
     "hide_output_from_viewers":false,
     "report_properties":{
      "y":121
     }
    }
   }
  },
  {
   "cell_type":"code",
   "source":[
    "# lets perform title mapping in order to change to ordinal\n",
    "title_mapping = {\"Mr\": 1, \"Miss\": 2, \"Mrs\": 3, \"Master\": 4, \"Rare\": 5}\n",
    "\n",
    "titanic['title'] = titanic['title'].map(title_mapping)"
   ],
   "execution_count":311,
   "outputs":[
    
   ],
   "metadata":{
    "datalore":{
     "node_id":"370ljnPx1sOuqA1rDh6sId",
     "type":"CODE",
     "hide_input_from_viewers":false,
     "hide_output_from_viewers":false,
     "report_properties":{
      "y":124
     }
    }
   }
  },
  {
   "cell_type":"code",
   "source":[
    "#dropping the Ticket column\n",
    "\n",
    "titanic.drop(['ticket'], axis = 1, inplace = True)"
   ],
   "execution_count":312,
   "outputs":[
    
   ],
   "metadata":{
    "datalore":{
     "node_id":"M2oHqL39qLKZoY8tcLzyAw",
     "type":"CODE",
     "hide_input_from_viewers":false,
     "hide_output_from_viewers":false,
     "report_properties":{
      "y":127
     }
    }
   }
  },
  {
   "cell_type":"markdown",
   "source":[
    
   ],
   "attachments":{
    
   },
   "metadata":{
    "datalore":{
     "node_id":"sSUDhoEPAaQjx32CCB3GCA",
     "type":"MD",
     "hide_input_from_viewers":false,
     "hide_output_from_viewers":false,
     "report_properties":{
      "y":130
     }
    }
   }
  },
  {
   "cell_type":"markdown",
   "source":[
    "Binning age and fare column"
   ],
   "attachments":{
    
   },
   "metadata":{
    "datalore":{
     "node_id":"zzwi4n8u0LX3LilPqlCozJ",
     "type":"MD",
     "hide_input_from_viewers":false,
     "hide_output_from_viewers":false,
     "report_properties":{
      "y":133
     }
    }
   }
  },
  {
   "cell_type":"code",
   "source":[
    "titanic.loc[ titanic['age'] <= 16, 'age'] = 0\n",
    "titanic.loc[(titanic['age'] > 16) & (titanic['age'] <= 32), 'age'] = 1\n",
    "titanic.loc[(titanic['age'] > 32) & (titanic['age'] <= 48), 'age'] = 2\n",
    "titanic.loc[(titanic['age'] > 48) & (titanic['age'] <= 64), 'age'] = 3\n",
    "titanic.loc[ titanic['age'] > 64, 'age'] = 4"
   ],
   "execution_count":313,
   "outputs":[
    
   ],
   "metadata":{
    "datalore":{
     "node_id":"XML2MDLj6sAkyct3SUIEeZ",
     "type":"CODE",
     "hide_input_from_viewers":false,
     "hide_output_from_viewers":false,
     "report_properties":{
      "y":136
     }
    }
   }
  },
  {
   "cell_type":"code",
   "source":[
    "titanic.loc[titanic['fare'] < 30, 'fare'] = 1\n",
    "titanic.loc[(titanic['fare'] >= 30) & (titanic['fare'] < 50),'fare'] = 2\n",
    "titanic.loc[(titanic['fare'] >= 50) & (titanic['fare'] < 100),'fare'] = 3\n",
    "titanic.loc[(titanic['fare'] >= 100),'fare'] = 4"
   ],
   "execution_count":314,
   "outputs":[
    
   ],
   "metadata":{
    "datalore":{
     "node_id":"PVOdhepEu0IyxfFM9Ll0mU",
     "type":"CODE",
     "hide_input_from_viewers":false,
     "hide_output_from_viewers":false,
     "report_properties":{
      "y":139
     }
    }
   }
  },
  {
   "cell_type":"code",
   "source":[
    "corr_titanic = titanic.corr()\n",
    "sns.heatmap(corr_titanic)\n",
    "plt.show()"
   ],
   "execution_count":315,
   "outputs":[
    {
     "data":{
      "image\/png":"[encoded data removed]"
     },
     "metadata":{
      "image\/png":{
       
      }
     },
     "output_type":"display_data"
    }
   ],
   "metadata":{
    "datalore":{
     "node_id":"oUGpseBuU56SyQrahuOUry",
     "type":"CODE",
     "hide_input_from_viewers":false,
     "hide_output_from_viewers":false,
     "report_properties":{
      "y":142
     }
    }
   }
  },
  {
   "cell_type":"markdown",
   "source":[
    "Spliting the Data into Training and Testing"
   ],
   "attachments":{
    
   },
   "metadata":{
    "datalore":{
     "node_id":"A2W8gyIC8pYUDql3TgjVMa",
     "type":"MD",
     "hide_input_from_viewers":false,
     "hide_output_from_viewers":false,
     "report_properties":{
      "y":151
     }
    }
   }
  },
  {
   "cell_type":"code",
   "source":[
    "from sklearn.model_selection import train_test_split\n",
    "\n",
    "y=titanic.survived\n",
    "x=titanic.drop('survived',axis=1)\n",
    "\n",
    "#spliting the data into training and testing sets \n",
    "x_train,x_test,y_train,y_test=train_test_split(x,y,test_size=0.3)\n",
    "\n",
    "print('shape of original dataset:', titanic.shape)\n",
    "print('shape of input-training set', x_train.shape)\n",
    "print('shape of output-training set:', y_train.shape)\n",
    "print('shape of input-testing set', x_test.shape)\n",
    "print('shape of output-testing set', y_test.shape)"
   ],
   "execution_count":335,
   "outputs":[
    {
     "name":"stdout",
     "text":[
      "shape of original dataset: (1310, 11)\n",
      "shape of input-training set (917, 10)\n",
      "shape of output-training set: (917,)\n",
      "shape of input-testing set (393, 10)\n",
      "shape of output-testing set (393,)\n"
     ],
     "output_type":"stream"
    }
   ],
   "metadata":{
    "datalore":{
     "node_id":"vpcjeu4ONKekt5eYPvbMl1",
     "type":"CODE",
     "hide_input_from_viewers":false,
     "hide_output_from_viewers":false,
     "report_properties":{
      "y":154
     }
    }
   }
  },
  {
   "cell_type":"code",
   "source":[
    "model = Sequential()\n",
    "model.add(Dense(units = 32, input_shape = (7,), activation = 'relu'))\n",
    "model.add(Dense(units = 64, activation = 'relu', kernel_initializer = 'he_normal', use_bias = False))\n",
    "model.add(tf.keras.layers.BatchNormalization())\n",
    "model.add(Dense(units = 128, activation = 'relu',kernel_initializer = 'he_normal', use_bias = False))\n",
    "model.add(Dropout(0.1))\n",
    "model.add(Dense(units = 64, activation = 'relu',kernel_initializer = 'he_normal', use_bias = False))\n",
    "model.add(Dropout(0.1))\n",
    "model.add(Dense(units = 32, activation = 'relu'))\n",
    "model.add(Dropout(0.15))\n",
    "model.add(Dense(units = 16, activation = 'relu'))\n",
    "model.add(Dense(units = 8, activation = 'relu',kernel_initializer = 'he_normal', use_bias = False))\n",
    "model.add(Dense(units =1 , activation = 'sigmoid'))"
   ],
   "execution_count":336,
   "outputs":[
    
   ],
   "metadata":{
    "datalore":{
     "node_id":"9XQR22prqlMooK8RmbUcO3",
     "type":"CODE",
     "hide_input_from_viewers":false,
     "hide_output_from_viewers":false,
     "report_properties":{
      "y":157
     }
    }
   }
  },
  {
   "cell_type":"code",
   "source":[
    "model.summary()\n"
   ],
   "execution_count":337,
   "outputs":[
    {
     "name":"stdout",
     "text":[
      "Model: \"sequential_11\"\n",
      "_________________________________________________________________\n",
      " Layer (type)                Output Shape              Param #   \n",
      "=================================================================\n",
      " dense_88 (Dense)            (None, 32)                256       \n",
      "                                                                 \n",
      " dense_89 (Dense)            (None, 64)                2048      \n",
      "                                                                 \n",
      " batch_normalization_11 (Bat  (None, 64)               256       \n",
      " chNormalization)                                                \n",
      "                                                                 \n",
      " dense_90 (Dense)            (None, 128)               8192      \n",
      "                                                                 \n",
      " dropout_33 (Dropout)        (None, 128)               0         \n",
      "                                                                 \n",
      " dense_91 (Dense)            (None, 64)                8192      \n",
      "                                                                 \n",
      " dropout_34 (Dropout)        (None, 64)                0         \n",
      "                                                                 \n",
      " dense_92 (Dense)            (None, 32)                2080      \n",
      "                                                                 \n",
      " dropout_35 (Dropout)        (None, 32)                0         \n",
      "                                                                 \n",
      " dense_93 (Dense)            (None, 16)                528       \n",
      "                                                                 \n",
      " dense_94 (Dense)            (None, 8)                 128       \n",
      "                                                                 \n",
      " dense_95 (Dense)            (None, 1)                 9         \n",
      "                                                                 \n",
      "=================================================================\n",
      "Total params: 21,689\n",
      "Trainable params: 21,561\n",
      "Non-trainable params: 128\n",
      "_________________________________________________________________\n"
     ],
     "output_type":"stream"
    }
   ],
   "metadata":{
    "datalore":{
     "node_id":"NoOk7fqrqs4H7fmB8gpDWQ",
     "type":"CODE",
     "hide_input_from_viewers":false,
     "hide_output_from_viewers":false,
     "report_properties":{
      "y":160
     }
    }
   }
  },
  {
   "cell_type":"code",
   "source":[
    "model.compile(loss = tf.keras.losses.binary_crossentropy, optimizer = tf.keras.optimizers.Adam(), metrics = ['acc'])\n",
    "model.fit(x_train, y_train, batch_size = 32, verbose = 2, epochs = 50)"
   ],
   "execution_count":345,
   "outputs":[
    {
     "ename":"ValueError",
     "evalue":"ValueError: Failed to convert a NumPy array to a Tensor (Unsupported object type int).",
     "traceback":[
      "\u001b[0;31m---------------------------------------------------------------------------",
      "Traceback (most recent call last)",
      "    at line 2 in <module>",
      "    at line 70 in error_handler(*args, **kwargs)",
      "    at line 102 in convert_to_eager_tensor(value, ctx, dtype)",
      "ValueError: Failed to convert a NumPy array to a Tensor (Unsupported object type int)."
     ],
     "output_type":"error"
    }
   ],
   "metadata":{
    "datalore":{
     "node_id":"FT5i0mJWVhnGwOSFjme80q",
     "type":"CODE",
     "hide_input_from_viewers":true,
     "hide_output_from_viewers":true
    }
   }
  },
  {
   "cell_type":"code",
   "source":[
    
   ],
   "execution_count":null,
   "outputs":[
    
   ],
   "metadata":{
    "datalore":{
     "node_id":"332mbs7aRJYiDk51PltSvU",
     "type":"CODE",
     "hide_input_from_viewers":true,
     "hide_output_from_viewers":true
    }
   }
  }
 ],
 "metadata":{
  "kernelspec":{
   "display_name":"Python",
   "language":"python",
   "name":"python"
  },
  "datalore":{
   "version":1,
   "computation_mode":"JUPYTER",
   "package_manager":"pip",
   "base_environment":"default",
   "packages":[
    {
     "name":"seed",
     "source":"PIP"
    }
   ]
  }
 },
 "nbformat":4,
 "nbformat_minor":4
}